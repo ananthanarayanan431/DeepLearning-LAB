{
 "cells": [
  {
   "cell_type": "code",
   "execution_count": 31,
   "id": "4e19f095",
   "metadata": {},
   "outputs": [],
   "source": [
    "import numpy as np\n",
    "#"
   ]
  },
  {
   "cell_type": "code",
   "execution_count": 32,
   "id": "6980359b",
   "metadata": {},
   "outputs": [
    {
     "data": {
      "text/plain": [
       "(4, 2)"
      ]
     },
     "execution_count": 32,
     "metadata": {},
     "output_type": "execute_result"
    }
   ],
   "source": [
    "input_value = np.array([[0,0],[0,1],[1,1],[1,0]])\n",
    "input_value.shape"
   ]
  },
  {
   "cell_type": "code",
   "execution_count": 33,
   "id": "6e85628c",
   "metadata": {},
   "outputs": [
    {
     "data": {
      "text/plain": [
       "array([[0, 0],\n",
       "       [0, 1],\n",
       "       [1, 1],\n",
       "       [1, 0]])"
      ]
     },
     "execution_count": 33,
     "metadata": {},
     "output_type": "execute_result"
    }
   ],
   "source": [
    "input_value"
   ]
  },
  {
   "cell_type": "code",
   "execution_count": 34,
   "id": "0e776ddb",
   "metadata": {},
   "outputs": [],
   "source": [
    "output_value = np.array([0,1,1,0])\n",
    "output_value = output_value.reshape(4,1)"
   ]
  },
  {
   "cell_type": "code",
   "execution_count": 35,
   "id": "809a2637",
   "metadata": {},
   "outputs": [
    {
     "data": {
      "text/plain": [
       "(4, 1)"
      ]
     },
     "execution_count": 35,
     "metadata": {},
     "output_type": "execute_result"
    }
   ],
   "source": [
    "output_value.shape"
   ]
  },
  {
   "cell_type": "code",
   "execution_count": 36,
   "id": "7e1f0d0d",
   "metadata": {},
   "outputs": [
    {
     "data": {
      "text/plain": [
       "array([[0.1],\n",
       "       [0.2]])"
      ]
     },
     "execution_count": 36,
     "metadata": {},
     "output_type": "execute_result"
    }
   ],
   "source": [
    "weights = np.array([[0.1],[0.2]])\n",
    "weights"
   ]
  },
  {
   "cell_type": "code",
   "execution_count": 21,
   "id": "09cfd771",
   "metadata": {},
   "outputs": [],
   "source": [
    "bias = 0.3"
   ]
  },
  {
   "cell_type": "code",
   "execution_count": 22,
   "id": "6ec44693",
   "metadata": {},
   "outputs": [],
   "source": [
    "def sigmoid_func(x):\n",
    "    return 1/(1+np.exp(-x))"
   ]
  },
  {
   "cell_type": "code",
   "execution_count": 23,
   "id": "5e49d194",
   "metadata": {},
   "outputs": [],
   "source": [
    "def derv(x):\n",
    "    return sigmoid_func(x) * (1-sigmoid_func(x))"
   ]
  },
  {
   "cell_type": "code",
   "execution_count": 37,
   "id": "dfd59640",
   "metadata": {},
   "outputs": [
    {
     "name": "stdout",
     "output_type": "stream",
     "text": [
      "[[-0.37371295]\n",
      " [ 4.30577231]]\n",
      "[-1.8487973]\n"
     ]
    }
   ],
   "source": [
    "for epochs in range(1000):\n",
    "    input_arr = input_value\n",
    "    \n",
    "    weighted_sum = np.dot(input_arr,weights) + bias\n",
    "    first_output = sigmoid_func(weighted_sum)\n",
    "    \n",
    "    error = first_output - output_value\n",
    "    total_wrror = np.square(np.subtract(first_output,output_value)).mean()\n",
    "    \n",
    "    first_der = error\n",
    "    second_der = derv(first_output)\n",
    "    derivative = first_der*second_der\n",
    "    \n",
    "    t_input=input_value.T\n",
    "    final_derivative = np.dot(t_input,derivative)\n",
    "    \n",
    "    weights = weights - 0.05*final_derivative\n",
    "    \n",
    "    for i in derivative:\n",
    "        bias = bias - 0.05*i\n",
    "        \n",
    "    #print(epochs,weights,end=\" \")\n",
    "    #print(epochs,bias,end=\" \")\n",
    "    \n",
    "print(weights)\n",
    "print(bias)"
   ]
  },
  {
   "cell_type": "code",
   "execution_count": 38,
   "id": "f3844f9f",
   "metadata": {},
   "outputs": [
    {
     "name": "stdout",
     "output_type": "stream",
     "text": [
      "[0.92107003]\n"
     ]
    }
   ],
   "source": [
    "pred = np.array([0,1])\n",
    "\n",
    "result = np.dot(pred,weights) + bias\n",
    "\n",
    "res = sigmoid_func(result)\n",
    "\n",
    "print(res)"
   ]
  },
  {
   "cell_type": "code",
   "execution_count": null,
   "id": "27cde9e1",
   "metadata": {},
   "outputs": [],
   "source": []
  },
  {
   "cell_type": "code",
   "execution_count": null,
   "id": "4966202c",
   "metadata": {},
   "outputs": [],
   "source": []
  }
 ],
 "metadata": {
  "kernelspec": {
   "display_name": "Python 3 (ipykernel)",
   "language": "python",
   "name": "python3"
  },
  "language_info": {
   "codemirror_mode": {
    "name": "ipython",
    "version": 3
   },
   "file_extension": ".py",
   "mimetype": "text/x-python",
   "name": "python",
   "nbconvert_exporter": "python",
   "pygments_lexer": "ipython3",
   "version": "3.9.16"
  }
 },
 "nbformat": 4,
 "nbformat_minor": 5
}
