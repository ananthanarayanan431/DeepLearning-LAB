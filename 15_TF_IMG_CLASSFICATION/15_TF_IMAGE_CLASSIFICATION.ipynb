{
  "cells": [
    {
      "cell_type": "code",
      "execution_count": 1,
      "metadata": {
        "id": "fvjJEKUreVaw"
      },
      "outputs": [],
      "source": [
        "from keras.datasets import fashion_mnist\n",
        "from tensorflow.keras.models import Sequential\n",
        "\n",
        "from tensorflow.keras.layers import Conv2D, MaxPooling2D, Dense, Flatten\n",
        "\n",
        "from tensorflow.keras.optimizers import Adam\n",
        "import matplotlib.pyplot as plt\n",
        "import numpy as np\n"
      ]
    },
    {
      "cell_type": "code",
      "execution_count": 2,
      "metadata": {
        "colab": {
          "base_uri": "https://localhost:8080/"
        },
        "id": "SGoUopRpe0Mb",
        "outputId": "bf07c63c-6ba0-4068-8b10-3e38826e04fd"
      },
      "outputs": [
        {
          "output_type": "stream",
          "name": "stdout",
          "text": [
            "Downloading data from https://storage.googleapis.com/tensorflow/tf-keras-datasets/train-labels-idx1-ubyte.gz\n",
            "29515/29515 [==============================] - 0s 0us/step\n",
            "Downloading data from https://storage.googleapis.com/tensorflow/tf-keras-datasets/train-images-idx3-ubyte.gz\n",
            "26421880/26421880 [==============================] - 0s 0us/step\n",
            "Downloading data from https://storage.googleapis.com/tensorflow/tf-keras-datasets/t10k-labels-idx1-ubyte.gz\n",
            "5148/5148 [==============================] - 0s 0us/step\n",
            "Downloading data from https://storage.googleapis.com/tensorflow/tf-keras-datasets/t10k-images-idx3-ubyte.gz\n",
            "4422102/4422102 [==============================] - 0s 0us/step\n",
            "Train: X =  (60000, 28, 28)\n",
            "Test: X =  (10000, 28, 28)\n"
          ]
        }
      ],
      "source": [
        "(trainX, trainy), (testX, testy) = fashion_mnist.load_data()\n",
        "\n",
        "print('Train: X = ', trainX.shape)\n",
        "print('Test: X = ', testX.shape)"
      ]
    },
    {
      "cell_type": "code",
      "execution_count": 3,
      "metadata": {
        "colab": {
          "base_uri": "https://localhost:8080/",
          "height": 433
        },
        "id": "2wOm6Wiye6bE",
        "outputId": "b5b90a62-0162-42a6-b1e6-892601e33847"
      },
      "outputs": [
        {
          "output_type": "display_data",
          "data": {
            "text/plain": [
              "<Figure size 640x480 with 9 Axes>"
            ],
            "image/png": "[encoded data removed]"
          },
          "metadata": {}
        }
      ],
      "source": [
        "for i in range(1, 10):\n",
        "\n",
        "    plt.subplot(3, 3, i)\n",
        "\n",
        "    plt.imshow(trainX[i], cmap=plt.get_cmap('gray'))\n",
        "\n",
        "plt.show()"
      ]
    },
    {
      "cell_type": "code",
      "execution_count": 4,
      "metadata": {
        "id": "q8v7FVVYfIJl"
      },
      "outputs": [],
      "source": [
        "def model_arch():\n",
        "\tmodels = Sequential()\n",
        "\n",
        "\tmodels.add(Conv2D(64, (5, 5),\n",
        "\t\t\t\t\tpadding=\"same\",\n",
        "\t\t\t\t\tactivation=\"relu\",\n",
        "\t\t\t\t\tinput_shape=(28, 28, 1)))\n",
        "\n",
        "\tmodels.add(MaxPooling2D(pool_size=(2, 2)))\n",
        "\tmodels.add(Conv2D(128, (5, 5), padding=\"same\",\n",
        "\t\t\t\t\tactivation=\"relu\"))\n",
        "\n",
        "\tmodels.add(MaxPooling2D(pool_size=(2, 2)))\n",
        "\tmodels.add(Conv2D(256, (5, 5), padding=\"same\",\n",
        "\t\t\t\t\tactivation=\"relu\"))\n",
        "\n",
        "\tmodels.add(MaxPooling2D(pool_size=(2, 2)))\n",
        "\n",
        "\tmodels.add(Flatten())\n",
        "\tmodels.add(Dense(256, activation=\"relu\"))\n",
        "\tmodels.add(Dense(10, activation=\"softmax\"))\n",
        "\n",
        "\treturn models"
      ]
    },
    {
      "cell_type": "code",
      "execution_count": 5,
      "metadata": {
        "colab": {
          "base_uri": "https://localhost:8080/"
        },
        "id": "zmu3z3fGfQar",
        "outputId": "e73d0f12-67bb-45fe-a994-ff27b524c565"
      },
      "outputs": [
        {
          "output_type": "stream",
          "name": "stdout",
          "text": [
            "Model: \"sequential\"\n",
            "_________________________________________________________________\n",
            " Layer (type)                Output Shape              Param #   \n",
            "=================================================================\n",
            " conv2d (Conv2D)             (None, 28, 28, 64)        1664      \n",
            "                                                                 \n",
            " max_pooling2d (MaxPooling2  (None, 14, 14, 64)        0         \n",
            " D)                                                              \n",
            "                                                                 \n",
            " conv2d_1 (Conv2D)           (None, 14, 14, 128)       204928    \n",
            "                                                                 \n",
            " max_pooling2d_1 (MaxPoolin  (None, 7, 7, 128)         0         \n",
            " g2D)                                                            \n",
            "                                                                 \n",
            " conv2d_2 (Conv2D)           (None, 7, 7, 256)         819456    \n",
            "                                                                 \n",
            " max_pooling2d_2 (MaxPoolin  (None, 3, 3, 256)         0         \n",
            " g2D)                                                            \n",
            "                                                                 \n",
            " flatten (Flatten)           (None, 2304)              0         \n",
            "                                                                 \n",
            " dense (Dense)               (None, 256)               590080    \n",
            "                                                                 \n",
            " dense_1 (Dense)             (None, 10)                2570      \n",
            "                                                                 \n",
            "=================================================================\n",
            "Total params: 1618698 (6.17 MB)\n",
            "Trainable params: 1618698 (6.17 MB)\n",
            "Non-trainable params: 0 (0.00 Byte)\n",
            "_________________________________________________________________\n"
          ]
        }
      ],
      "source": [
        "model = model_arch()\n",
        "\n",
        "model.compile(optimizer=Adam(learning_rate=1e-3),\n",
        "\t\t\tloss='sparse_categorical_crossentropy',\n",
        "\t\t\tmetrics=['sparse_categorical_accuracy'])\n",
        "\n",
        "model.summary()"
      ]
    },
    {
      "cell_type": "code",
      "execution_count": 6,
      "metadata": {
        "colab": {
          "base_uri": "https://localhost:8080/"
        },
        "id": "CsFXzva8fWAE",
        "outputId": "dce0ae3f-bfc7-4338-c3ee-dd0c6fd85423"
      },
      "outputs": [
        {
          "output_type": "stream",
          "name": "stdout",
          "text": [
            "Epoch 1/10\n",
            "100/100 [==============================] - 17s 81ms/step - loss: 3.2903 - sparse_categorical_accuracy: 0.6580 - val_loss: 0.4280 - val_sparse_categorical_accuracy: 0.8433\n",
            "Epoch 2/10\n",
            "100/100 [==============================] - 5s 54ms/step - loss: 0.3665 - sparse_categorical_accuracy: 0.8661 - val_loss: 0.3415 - val_sparse_categorical_accuracy: 0.8732\n",
            "Epoch 3/10\n",
            "100/100 [==============================] - 5s 51ms/step - loss: 0.3064 - sparse_categorical_accuracy: 0.8871 - val_loss: 0.3085 - val_sparse_categorical_accuracy: 0.8857\n",
            "Epoch 4/10\n",
            "100/100 [==============================] - 5s 54ms/step - loss: 0.2659 - sparse_categorical_accuracy: 0.9028 - val_loss: 0.2954 - val_sparse_categorical_accuracy: 0.8908\n",
            "Epoch 5/10\n",
            "100/100 [==============================] - 5s 52ms/step - loss: 0.2331 - sparse_categorical_accuracy: 0.9137 - val_loss: 0.2898 - val_sparse_categorical_accuracy: 0.8962\n",
            "Epoch 6/10\n",
            "100/100 [==============================] - 5s 52ms/step - loss: 0.2156 - sparse_categorical_accuracy: 0.9208 - val_loss: 0.2906 - val_sparse_categorical_accuracy: 0.8933\n",
            "Epoch 7/10\n",
            "100/100 [==============================] - 6s 63ms/step - loss: 0.1948 - sparse_categorical_accuracy: 0.9290 - val_loss: 0.2728 - val_sparse_categorical_accuracy: 0.9048\n",
            "Epoch 8/10\n",
            "100/100 [==============================] - 6s 62ms/step - loss: 0.1718 - sparse_categorical_accuracy: 0.9372 - val_loss: 0.3032 - val_sparse_categorical_accuracy: 0.8937\n",
            "Epoch 9/10\n",
            "100/100 [==============================] - 5s 55ms/step - loss: 0.1593 - sparse_categorical_accuracy: 0.9414 - val_loss: 0.2978 - val_sparse_categorical_accuracy: 0.8998\n",
            "Epoch 10/10\n",
            "100/100 [==============================] - 5s 54ms/step - loss: 0.1413 - sparse_categorical_accuracy: 0.9477 - val_loss: 0.3059 - val_sparse_categorical_accuracy: 0.8975\n"
          ]
        }
      ],
      "source": [
        "\n",
        "history = model.fit(\n",
        "    trainX.astype(np.float32), trainy.astype(np.float32),\n",
        "    epochs=10,\n",
        "    steps_per_epoch=100,\n",
        "    validation_split=0.33\n",
        ")"
      ]
    },
    {
      "cell_type": "code",
      "execution_count": 11,
      "metadata": {
        "id": "6HrhNLacfapk",
        "colab": {
          "base_uri": "https://localhost:8080/",
          "height": 482
        },
        "outputId": "a6a17157-1b1d-4b75-c470-6d5b2b76323c"
      },
      "outputs": [
        {
          "output_type": "stream",
          "name": "stdout",
          "text": [
            "10000\n",
            "1/1 [==============================] - 0s 36ms/step\n",
            "coat\n"
          ]
        },
        {
          "output_type": "display_data",
          "data": {
            "text/plain": [
              "<Figure size 640x480 with 1 Axes>"
            ],
            "image/png": "[encoded data removed]"
          },
          "metadata": {}
        }
      ],
      "source": [
        "\n",
        "labels = ['t_shirt', 'trouser', 'pullover',\n",
        "\t\t'dress', 'coat', 'sandal', 'shirt',\n",
        "\t\t'sneaker', 'bag', 'ankle_boots']\n",
        "\n",
        "\n",
        "print(len(testX))\n",
        "predictions = model.predict(testX[6:7])\n",
        "label = labels[np.argmax(predictions)]\n",
        "\n",
        "print(label)\n",
        "plt.imshow(testX[6:7][0])\n",
        "plt.show()\n"
      ]
    },
    {
      "cell_type": "code",
      "source": [],
      "metadata": {
        "id": "0pmRcw_hnZNs"
      },
      "execution_count": null,
      "outputs": []
    }
  ],
  "metadata": {
    "accelerator": "GPU",
    "colab": {
      "provenance": []
    },
    "kernelspec": {
      "display_name": "Python 3",
      "name": "python3"
    },
    "language_info": {
      "name": "python"
    }
  },
  "nbformat": 4,
  "nbformat_minor": 0
}